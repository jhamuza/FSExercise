{
 "cells": [
  {
   "cell_type": "markdown",
   "metadata": {},
   "source": [
    "# 4. Selenium and BeautifulSoup Examples"
   ]
  },
  {
   "cell_type": "code",
   "execution_count": 2,
   "metadata": {},
   "outputs": [
    {
     "ename": "ModuleNotFoundError",
     "evalue": "No module named 'selenium'",
     "output_type": "error",
     "traceback": [
      "\u001b[1;31m---------------------------------------------------------------------------\u001b[0m",
      "\u001b[1;31mModuleNotFoundError\u001b[0m                       Traceback (most recent call last)",
      "\u001b[1;32m<ipython-input-2-6ccf4794ebd2>\u001b[0m in \u001b[0;36m<module>\u001b[1;34m\u001b[0m\n\u001b[0;32m      1\u001b[0m \u001b[1;32mimport\u001b[0m \u001b[0mtime\u001b[0m\u001b[1;33m\u001b[0m\u001b[1;33m\u001b[0m\u001b[0m\n\u001b[0;32m      2\u001b[0m \u001b[1;33m\u001b[0m\u001b[0m\n\u001b[1;32m----> 3\u001b[1;33m \u001b[1;32mfrom\u001b[0m \u001b[0mselenium\u001b[0m \u001b[1;32mimport\u001b[0m \u001b[0mwebdriver\u001b[0m\u001b[1;33m\u001b[0m\u001b[1;33m\u001b[0m\u001b[0m\n\u001b[0m\u001b[0;32m      4\u001b[0m \u001b[1;32mfrom\u001b[0m \u001b[0mbs4\u001b[0m \u001b[1;32mimport\u001b[0m \u001b[0mBeautifulSoup\u001b[0m\u001b[1;33m\u001b[0m\u001b[1;33m\u001b[0m\u001b[0m\n\u001b[0;32m      5\u001b[0m \u001b[1;32mfrom\u001b[0m \u001b[0mwebdriver_manager\u001b[0m\u001b[1;33m.\u001b[0m\u001b[0mchrome\u001b[0m \u001b[1;32mimport\u001b[0m \u001b[0mChromeDriverManager\u001b[0m\u001b[1;33m\u001b[0m\u001b[1;33m\u001b[0m\u001b[0m\n",
      "\u001b[1;31mModuleNotFoundError\u001b[0m: No module named 'selenium'"
     ]
    }
   ],
   "source": [
    "import time\n",
    "\n",
    "from selenium import webdriver\n",
    "from bs4 import BeautifulSoup\n",
    "from webdriver_manager.chrome import ChromeDriverManager\n",
    "\n",
    "driver = webdriver.Chrome(ChromeDriverManager().install())\n",
    "driver.get(\"https://www.ebay.com.my\")\n",
    "# htmlSource = driver.page_source"
   ]
  },
  {
   "cell_type": "code",
   "execution_count": null,
   "metadata": {},
   "outputs": [],
   "source": [
    "# Page 1\n",
    "driver.find_element_by_id(\"gh-ac\").send_keys(\"Xiaomi\")\n",
    "\n",
    "time.sleep(1)\n",
    "\n",
    "driver.find_element_by_id(\"gh-btn\").click()\n"
   ]
  },
  {
   "cell_type": "code",
   "execution_count": null,
   "metadata": {},
   "outputs": [],
   "source": [
    "soup = BeautifulSoup(driver.page_source,'html.parser')\n",
    "\n",
    "time.sleep(1)\n",
    "\n",
    "# soup_list = soup.findAll(\"h3\", attrs={\"class\":\"s-item__title\"})\n",
    "\n",
    "# soup_list = soup.findAll(\"h3\", attrs={\"class\":\"s-item__title\"})[0]\n",
    "\n",
    "# print(soup_list)\n",
    "\n",
    "soup_list = soup.findAll(\"a\", attrs={\"class\":\"s-item__link\"})\n",
    "print(soup_list)"
   ]
  },
  {
   "cell_type": "code",
   "execution_count": null,
   "metadata": {},
   "outputs": [],
   "source": [
    "soup_list[1]['href']"
   ]
  },
  {
   "cell_type": "code",
   "execution_count": null,
   "metadata": {},
   "outputs": [],
   "source": [
    "# Linked url\n",
    "soup = BeautifulSoup(driver.page_source,'html.parser')\n",
    "\n",
    "soup_list = soup.findAll(\"a\", attrs={\"class\":\"s-item__link\"})[1]['href']\n",
    "\n",
    "print(soup_list)\n"
   ]
  },
  {
   "cell_type": "code",
   "execution_count": null,
   "metadata": {},
   "outputs": [],
   "source": [
    "# Page 2\n",
    "soup = BeautifulSoup(driver.page_source,'html.parser')\n",
    "\n",
    "soup_list = soup.findAll(\"a\", attrs={\"class\":\"s-item__link\"})[1]['href']\n",
    "\n",
    "driver.get(soup_list)\n",
    "\n",
    "time.sleep(1)\n",
    "\n",
    "print(soup_list)"
   ]
  },
  {
   "cell_type": "code",
   "execution_count": null,
   "metadata": {},
   "outputs": [],
   "source": [
    "# Page 3\n",
    "soup = BeautifulSoup(driver.page_source,'html.parser')\n",
    "\n",
    "soup_button = soup.find(\"a\",attrs={\"id\":\"binBtn_btn\"})['href']\n",
    "\n",
    "driver.get(soup_button)\n",
    "\n",
    "time.sleep(1)\n",
    "\n",
    "print(soup_button)\n",
    "\n",
    "driver.close()\n"
   ]
  },
  {
   "cell_type": "markdown",
   "metadata": {},
   "source": [
    "### find_element_by_xpath"
   ]
  },
  {
   "cell_type": "code",
   "execution_count": null,
   "metadata": {},
   "outputs": [],
   "source": [
    "# from selenium import webdriver\n",
    "\n",
    "# driver = webdriver.Firefox() # to try with firefox webdriver\n",
    "\n",
    "driver = webdriver.Chrome(ChromeDriverManager().install())\n",
    "driver.get('https://en.wikipedia.org/wiki/International_Space_Station')\n",
    "\n",
    "time.sleep(1)\n",
    "\n"
   ]
  },
  {
   "cell_type": "code",
   "execution_count": null,
   "metadata": {},
   "outputs": [],
   "source": [
    "# xPath option 1\n",
    "iss_table = driver.find_element_by_xpath(r'/html/body/div[3]/div[3]/div[5]/div[1]/div[92]/table')\n",
    "\n",
    "# xPath option 2\n",
    "# iss_table = driver.find_element_by_xpath(r'//*[@id=\"mw-content-text\"]/div/table[1]')\n",
    "\n",
    "# xPath option 3\n",
    "# iss_table = driver.find_element_by_xpath('//table')\n",
    "\n",
    "iss_table_html = iss_table.get_attribute('outerHTML')\n",
    "\n",
    "# Print partially\n",
    "print(iss_table_html[:200])\n",
    "print('\\n. . .\\n')\n",
    "print(iss_table_html[-200:])\n",
    "\n",
    "# print(iss_table_html)\n",
    "\n",
    "# driver.close()\n"
   ]
  },
  {
   "cell_type": "code",
   "execution_count": null,
   "metadata": {},
   "outputs": [],
   "source": [
    "# for ipython notebook display\n",
    "# import IPython\n",
    "\n",
    "from IPython.core.display import display, HTML\n",
    "\n",
    "display(HTML(iss_table_html))\n",
    "\n"
   ]
  },
  {
   "cell_type": "code",
   "execution_count": null,
   "metadata": {},
   "outputs": [],
   "source": []
  }
 ],
 "metadata": {
  "kernelspec": {
   "display_name": "Python 3",
   "language": "python",
   "name": "python3"
  },
  "language_info": {
   "codemirror_mode": {
    "name": "ipython",
    "version": 3
   },
   "file_extension": ".py",
   "mimetype": "text/x-python",
   "name": "python",
   "nbconvert_exporter": "python",
   "pygments_lexer": "ipython3",
   "version": "3.8.8"
  }
 },
 "nbformat": 4,
 "nbformat_minor": 4
}
