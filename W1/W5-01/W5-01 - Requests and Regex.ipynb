{
 "cells": [
  {
   "cell_type": "markdown",
   "metadata": {},
   "source": [
    "# W5-01 : Requests, Regex, BeautifulSoup, lxml, Selenium\n",
    "\n",
    "## Exercise(s): Learn how to perform Data Scraping\n",
    "\n",
    "\n",
    "Objective: Learn Regex, BeautifulSoup, lxml, Selenium\n",
    "\n",
    "Competencies:\n",
    "-\tParticipants will be able to use Numpy\n",
    "\n",
    "Tools: Python, Anaconda, Jupyter\n",
    "\n",
    "Analysis case study: -"
   ]
  },
  {
   "cell_type": "markdown",
   "metadata": {
    "colab": {},
    "colab_type": "code",
    "id": "O-QJwKjkYd1V"
   },
   "source": [
    "## Day 1: Basics of Web Scraping\n",
    "\n",
    "1. Requests\n",
    "2. Regex\n",
    "3. BeautifulSoup\n",
    "4. lxml\n",
    "5. Selenium\n",
    "\n",
    "## Day 2: Social Media Scraping\n",
    "\n",
    "1. Facebook\n",
    "2. Twitter\n",
    "3. Instagram\n",
    "4. Reddit\n"
   ]
  },
  {
   "cell_type": "markdown",
   "metadata": {
    "colab_type": "text",
    "id": "YL-wDfUMYd4o"
   },
   "source": [
    "### Anatomy of a Web Page\n",
    "\n",
    "HTML(Hyper Text Markup Language)\n",
    "\n",
    "CSS(Cascading Style Sheets)\n",
    "\n",
    "Javascript\n",
    "\n",
    "\n",
    "Show some examples "
   ]
  },
  {
   "cell_type": "code",
   "execution_count": null,
   "metadata": {
    "colab": {},
    "colab_type": "code",
    "id": "2Gn-ZrhFYd5D"
   },
   "outputs": [],
   "source": [
    "webpage = '''\n",
    "<!DOCTYPE html>\n",
    "<html>\n",
    "  <head>\n",
    "    <title>This is a title</title>\n",
    "  </head>\n",
    "  <body>\n",
    "    <p>Hello world!</p>\n",
    "  </body>\n",
    "</html>\n",
    "'''"
   ]
  },
  {
   "cell_type": "markdown",
   "metadata": {
    "colab_type": "text",
    "id": "lMpWn5EuYd6a"
   },
   "source": [
    "## Web Scraping\n",
    "\n",
    "**Web Scraping** is a technique to extract the data from the web pages in an **automated way**.\n",
    "\n",
    "A web scraping **script** can load and extract the **data** from multiple pages.\n",
    "\n",
    "A web scraping script contains Python codes and required libraries to perform the task.\n",
    "\n",
    "The first library needed is **Requests**\n"
   ]
  },
  {
   "cell_type": "markdown",
   "metadata": {
    "colab_type": "text",
    "id": "07v0_9A1Yd6b"
   },
   "source": [
    "### Getting Started\n",
    "\n",
    "**Install the Request library**\n",
    "\n",
    "pip3 install request\n",
    "\n",
    "OR\n",
    "\n",
    "conda install -c conda-forge request"
   ]
  },
  {
   "cell_type": "code",
   "execution_count": null,
   "metadata": {},
   "outputs": [],
   "source": [
    "import requests"
   ]
  },
  {
   "cell_type": "markdown",
   "metadata": {
    "colab": {},
    "colab_type": "code",
    "id": "8lfK6Rx_Yd6e"
   },
   "source": [
    "### Chapter 1: Requests\n",
    "\n",
    "\n",
    "**Requests** (handles HTTP sessions and makes HTTP requests).\n",
    "\n",
    "import requests\n"
   ]
  },
  {
   "cell_type": "code",
   "execution_count": null,
   "metadata": {
    "colab": {},
    "colab_type": "code",
    "id": "wCwLggtQYd6n"
   },
   "outputs": [],
   "source": [
    "import requests\n",
    "\n",
    "url='https://www.thestar.com.my/news/nation/2020/03/23/covid-19-current-situation-in-malaysia-updated-daily'\n",
    "\n",
    "page = requests.get(url)\n",
    "\n",
    "page.status_code\n"
   ]
  },
  {
   "cell_type": "markdown",
   "metadata": {
    "colab": {},
    "colab_type": "code",
    "id": "TpkqaD0JYd74"
   },
   "source": [
    "### Status code\n",
    "\n",
    "200 OK\n",
    "\n",
    "https://developer.mozilla.org/en-US/docs/Web/HTTP/Status\n"
   ]
  },
  {
   "cell_type": "code",
   "execution_count": null,
   "metadata": {
    "colab": {},
    "colab_type": "code",
    "id": "rXUCsiQlYd8B",
    "scrolled": true
   },
   "outputs": [],
   "source": [
    "# print the returned page as string\n",
    "page.text"
   ]
  },
  {
   "cell_type": "code",
   "execution_count": null,
   "metadata": {
    "colab": {},
    "colab_type": "code",
    "id": "4HT5aJDJYd8L",
    "scrolled": true
   },
   "outputs": [],
   "source": [
    "# print the returned page as bytes\n",
    "page.content"
   ]
  },
  {
   "cell_type": "code",
   "execution_count": null,
   "metadata": {
    "colab": {},
    "colab_type": "code",
    "id": "hUaWHcKSYd8V"
   },
   "outputs": [],
   "source": [
    "page.encoding"
   ]
  },
  {
   "cell_type": "markdown",
   "metadata": {
    "colab_type": "text",
    "id": "-KwIDuH1Yd8b"
   },
   "source": [
    "### Compare\n",
    "\n",
    "Open your Web Browser and compare the Source Code shown there and here\n"
   ]
  },
  {
   "cell_type": "markdown",
   "metadata": {
    "colab": {},
    "colab_type": "code",
    "id": "-bIQEO5EYd8e"
   },
   "source": [
    "### Understanding the Web Page\n",
    "\n",
    "Where is the ?\n",
    "\n",
    "HTML\n",
    "\n",
    "CSS\n",
    "\n",
    "Javascript\n",
    "\n",
    "Show the Web Browser Developmers Tools"
   ]
  },
  {
   "cell_type": "markdown",
   "metadata": {
    "colab": {},
    "colab_type": "code",
    "id": "RiE3XzwLYd9F"
   },
   "source": [
    "### Reduce impact\n",
    "\n",
    "Do not query the webpage all the time\n",
    "\n",
    "Anti-bots / scrapers\n"
   ]
  },
  {
   "cell_type": "code",
   "execution_count": null,
   "metadata": {
    "colab": {},
    "colab_type": "code",
    "id": "_Q72KpvTYd9O"
   },
   "outputs": [],
   "source": [
    "# How to save HTML locally\n",
    "import requests\n",
    "\n",
    "def save_html(html, path):\n",
    "    with open(path, 'wb') as f:\n",
    "        f.write(html)\n",
    "        \n",
    "url = 'https://www.google.com'\n",
    "\n",
    "r = requests.get(url)\n",
    "\n",
    "save_html(r.content, 'google_com')\n",
    "\n",
    "#print(r.content[:100])"
   ]
  },
  {
   "cell_type": "code",
   "execution_count": null,
   "metadata": {
    "colab": {},
    "colab_type": "code",
    "id": "Fa1IhputYd9X"
   },
   "outputs": [],
   "source": [
    "# How to open.read HTML from a local file\n",
    "\n",
    "def open_html(path):\n",
    "    with open(path, 'rb') as f:\n",
    "        return f.read()\n",
    "    \n",
    "    \n",
    "html = open_html('google_com')\n"
   ]
  },
  {
   "cell_type": "code",
   "execution_count": null,
   "metadata": {
    "colab": {},
    "colab_type": "code",
    "id": "cTxhiDFeYd-x",
    "scrolled": true
   },
   "outputs": [],
   "source": [
    "html"
   ]
  },
  {
   "cell_type": "markdown",
   "metadata": {
    "colab_type": "text",
    "id": "86KadDXjYeAS"
   },
   "source": [
    "### How to be a good scrapers/bots\n",
    "\n",
    "Look for robots.txt at the root of the domain.\n",
    "\n",
    "Website owner explicitly states what bots are allowed to do on their site\n",
    "\n"
   ]
  },
  {
   "cell_type": "code",
   "execution_count": null,
   "metadata": {
    "colab": {},
    "colab_type": "code",
    "id": "YLcH07tsYeAX",
    "scrolled": true
   },
   "outputs": [],
   "source": [
    "import requests\n",
    "\n",
    "url = 'https://www.google.com/robots.txt'\n",
    " \n",
    "user_agent = 'user-agent: Mozilla/5.0 (Windows NT 10.0; Win64; x64) AppleWebKit/537.36 (KHTML, like Gecko) Chrome/81.0.4044.92 Safari/537.36'\n",
    "\n",
    "headers={'User-Agent':user_agent}\n",
    "\n",
    "r = requests.get(url, headers=headers)\n",
    "\n",
    "print(r.content)"
   ]
  },
  {
   "cell_type": "code",
   "execution_count": null,
   "metadata": {
    "colab": {},
    "colab_type": "code",
    "id": "W7WWPX6NYeAi",
    "scrolled": true
   },
   "outputs": [],
   "source": [
    "# Change to Byte to String\n",
    "str(r.content,'utf-8')"
   ]
  },
  {
   "cell_type": "code",
   "execution_count": null,
   "metadata": {
    "colab": {},
    "colab_type": "code",
    "id": "wg547K7vYeAo"
   },
   "outputs": [],
   "source": [
    "# Print the newline\n",
    "print(str(r.content,'utf-8'))\n"
   ]
  },
  {
   "cell_type": "code",
   "execution_count": null,
   "metadata": {
    "colab": {},
    "colab_type": "code",
    "id": "iwE8PpJ7YeBV",
    "scrolled": true
   },
   "outputs": [],
   "source": [
    "import requests\n",
    "\n",
    "url = 'https://www.google.com/robots.txt'\n",
    " \n",
    "user_agent = 'user-agent: Mozilla/5.0 (Windows NT 10.0; Win64; x64) AppleWebKit/537.36 (KHTML, like Gecko) Chrome/81.0.4044.92 Safari/537.36'\n",
    "\n",
    "headers={'User-Agent':user_agent}\n",
    "\n",
    "r = requests.get(url, headers=headers)\n",
    "\n",
    "print(r.text)"
   ]
  },
  {
   "cell_type": "markdown",
   "metadata": {
    "colab_type": "text",
    "id": "gj3nsJbsYeBl"
   },
   "source": [
    "**Using r.text**\n",
    "\n",
    "Requests makes educated guesses about the encoding of the response based on the HTTP headers.\n",
    "\n",
    "The text encoding guessed by Requests is used when you access r.text. \n",
    "\n",
    "You can find out what encoding Requests is using, and change it, using the r.encoding property\n",
    "\n",
    "# Chapter 2. REGular EXpressions(REGEX)\n",
    "\n",
    "**References:** \n",
    "\n",
    "\n",
    "https://docs.python.org/3/library/re.html\n",
    "\n",
    "RegEx\n",
    "https://pypi.org/project/regex/\n"
   ]
  },
  {
   "cell_type": "markdown",
   "metadata": {},
   "source": [
    "Before the start this lesson. Try to write a code to extract only the digits from this String.\n",
    "str = \"abc**00123**xyz**456**_**0**\"\n",
    "\n",
    "answer = ['00123', '456', '0']"
   ]
  },
  {
   "cell_type": "code",
   "execution_count": null,
   "metadata": {},
   "outputs": [],
   "source": [
    "example_str = \"abc00123xyz456_0\"\n",
    "print(example_str[3:8])\n",
    "print(example_str[4:8])\n",
    "print(example_str[3:8])\n",
    "\n",
    "answer = []\n",
    "print(answer)"
   ]
  },
  {
   "cell_type": "markdown",
   "metadata": {
    "colab": {},
    "colab_type": "code",
    "collapsed": true,
    "id": "4ykGnR_MYeBm"
   },
   "source": [
    "## 1. What is a Regular Expression?\n",
    "\n",
    "\n",
    "A regular expression in a programming language is a special text string used for describing a search pattern. \n",
    "\n",
    "It is extremely useful for extracting information from text such as code, files, log, spreadsheets or even documents."
   ]
  },
  {
   "cell_type": "markdown",
   "metadata": {
    "colab_type": "text",
    "id": "zLFcKADAYeBz"
   },
   "source": [
    "<pre>\n",
    "\\    Used to drop the special meaning of character following it\n",
    "\n",
    "^    Matches the beginning\n",
    "\n",
    "$    Matches the end\n",
    "\n",
    ".    Matches any character except newline\n",
    "\n",
    "?    Matches zero or one occurrence.\n",
    "\n",
    "|    Means OR (Matches with any of the characters separated by it.\n",
    "\n",
    "*    Any number of occurrences (including 0 occurrences)\n",
    "\n",
    "+    One ore more occurrences\n",
    "\n",
    "{}   Indicate number of occurrences of a preceding RE to match.\n",
    "\n",
    "()   Enclose a group of REs\n",
    "\n",
    "</pre>"
   ]
  },
  {
   "cell_type": "markdown",
   "metadata": {
    "colab": {},
    "colab_type": "code",
    "collapsed": true,
    "id": "ZBpd82tbYeB1"
   },
   "source": [
    "## Methods\n",
    "\n",
    "re.match(), re.search() and re.findall() are methods of the Python module re.\n",
    "\n",
    "### The re.match() method\n",
    "\n",
    "The re.match() method finds match if it occurs at start of the string. For example, calling match() on the string ‘FS Forward School FS’ and looking for a pattern ‘FS’ will match.  \n",
    "\n"
   ]
  },
  {
   "cell_type": "code",
   "execution_count": null,
   "metadata": {
    "colab": {},
    "colab_type": "code",
    "id": "86EPzZrJYeCo"
   },
   "outputs": [],
   "source": [
    "import re\n",
    "\n",
    "data = 'FS Forward School FS'\n",
    "\n",
    "result = re.match(r'FS', data)\n",
    "\n",
    "print(result.group(0))"
   ]
  },
  {
   "cell_type": "markdown",
   "metadata": {
    "colab": {},
    "colab_type": "code",
    "collapsed": true,
    "id": "yLCLFIVwYeCu"
   },
   "source": [
    "### The re.search() method\n",
    "\n",
    "The re.search() method is similar to re.match() but it doesn’t limit us to find matches at the beginning of the string only. "
   ]
  },
  {
   "cell_type": "code",
   "execution_count": null,
   "metadata": {
    "colab_type": "text",
    "id": "vf7DW6MSYeC5"
   },
   "outputs": [],
   "source": [
    "import re\n",
    "\n",
    "result = re.search(r'FS', 'FS Forward School FS')\n",
    "\n",
    "print(result)\n",
    "print(result.group(0))"
   ]
  },
  {
   "cell_type": "markdown",
   "metadata": {
    "colab": {},
    "colab_type": "code",
    "collapsed": true,
    "id": "mTig1OswYeC6"
   },
   "source": [
    "### The re.findall() method\n",
    "\n",
    "The re.findall() helps to get a list of all matching patterns. It searches from start or end of the given string. If we use method findall to search for a pattern in a given string it will return all occurrences of the pattern. While searching a pattern, it is recommended to use re.findall() always, it works like re.search() and re.match() both.\n"
   ]
  },
  {
   "cell_type": "code",
   "execution_count": null,
   "metadata": {
    "colab_type": "text",
    "id": "l8SfcWwRYeDP"
   },
   "outputs": [],
   "source": [
    "import re\n",
    "\n",
    "result = re.findall(r'FS', 'FS Forward School FS')\n",
    "\n",
    "print(result)\n"
   ]
  },
  {
   "cell_type": "code",
   "execution_count": null,
   "metadata": {
    "colab": {},
    "colab_type": "code",
    "id": "39A8GZYrYeDR"
   },
   "outputs": [],
   "source": [
    "import re   # Need module 're' for regular expression\n",
    "\n",
    "# Try find: re.findall(regexStr, inStr) -> matchedSubstringsList\n",
    "\n",
    "# r'...' denotes raw strings which ignore escape code, i.e., r'\\n' is '\\'+'n'\n",
    "\n",
    "re.findall(r'[0-9]+', 'abc123xyz')\n",
    "\n",
    "# Return a list of matched substrings"
   ]
  },
  {
   "cell_type": "code",
   "execution_count": null,
   "metadata": {
    "colab_type": "text",
    "id": "O89O5HgxYeDd"
   },
   "outputs": [],
   "source": [
    "re.findall(r'[0-9]+', 'abcxyz')\n",
    "[]\n",
    "\n",
    "# where are the numbers?"
   ]
  },
  {
   "cell_type": "code",
   "execution_count": null,
   "metadata": {
    "colab": {},
    "colab_type": "code",
    "id": "i66Y2QXRYeDf"
   },
   "outputs": [],
   "source": [
    "import re\n",
    "\n",
    "re.findall(r'[0-3]+', 'abc00123xyz456_0')\n",
    "\n"
   ]
  },
  {
   "cell_type": "code",
   "execution_count": null,
   "metadata": {
    "colab": {},
    "colab_type": "code",
    "id": "CfJup6XmYeE1"
   },
   "outputs": [],
   "source": [
    "import re\n",
    "\n",
    "re.findall(r'\\d+', 'abc00123xyz456_0')\n",
    "\n"
   ]
  },
  {
   "cell_type": "code",
   "execution_count": null,
   "metadata": {
    "colab": {},
    "colab_type": "code",
    "id": "iWYFZ6qDYeE-"
   },
   "outputs": [],
   "source": [
    "# Try substitute: re.sub(regexStr, replacementStr, inStr) -> outStr\n",
    "import re\n",
    "\n",
    "re.sub(r'[0-9]+', r'0', 'abc00123xyz456_0')\n"
   ]
  },
  {
   "cell_type": "code",
   "execution_count": null,
   "metadata": {
    "colab": {},
    "colab_type": "code",
    "id": "1jwDuiLzYeFG"
   },
   "outputs": [],
   "source": [
    "# Try substitute with count: re.subn(regexStr, replacementStr, inStr) -> (outStr, count)\n",
    "import re\n",
    "\n",
    "re.subn(r'[0-9]+', r'*', 'abc00123xyz456_0')\n",
    "\n",
    "# Return a tuple of output string and count"
   ]
  },
  {
   "cell_type": "markdown",
   "metadata": {
    "colab_type": "text",
    "id": "ZCV3eA7dYeFZ"
   },
   "source": [
    "### Texts"
   ]
  },
  {
   "cell_type": "code",
   "execution_count": null,
   "metadata": {
    "colab": {},
    "colab_type": "code",
    "id": "hV_Cd1PBYeFa"
   },
   "outputs": [],
   "source": [
    "#  matching text that contain two keywords between characters.\n",
    "import re\n",
    "\n",
    "s1 = \"I love Ronaldo\"\n",
    "\n",
    "regex=r\"(I[a-zA-Z_0-9 ]*Ronaldo)\"\n",
    "\n",
    "match = re.findall(regex, s1)\n",
    "print(match)\n"
   ]
  },
  {
   "cell_type": "code",
   "execution_count": null,
   "metadata": {
    "colab": {},
    "colab_type": "code",
    "id": "OUfVTPmUYeGY"
   },
   "outputs": [],
   "source": [
    "#  matching text that contain two keywords between characters.\n",
    "import re\n",
    "\n",
    "s2 = \"I hate Ronaldo\" \n",
    "\n",
    "regex=r\"(I[a-zA-Z_0-9 ]*Ronaldo)\"\n",
    "\n",
    "match = re.findall(regex, s2)\n",
    "print(match)\n"
   ]
  },
  {
   "cell_type": "code",
   "execution_count": null,
   "metadata": {
    "colab": {},
    "colab_type": "code",
    "id": "DSdukBuOYeGm"
   },
   "outputs": [],
   "source": [
    "#  matching text that contain two keywords between characters.\n",
    "import re\n",
    "\n",
    "s3 = \"I love Ronaldo, Ronaldo, I Dunno him, I Hate Ronaldo\" \n",
    "\n",
    "regex=r\"(I[a-zA-Z_0-9 ]*Ronaldo)\"\n",
    "\n",
    "match = re.findall(regex, s3)\n",
    "print(match)\n"
   ]
  },
  {
   "cell_type": "code",
   "execution_count": null,
   "metadata": {
    "colab": {},
    "colab_type": "code",
    "id": "fY-w4QqiYeHX"
   },
   "outputs": [],
   "source": [
    "#  matching text that contain two keywords between characters.\n",
    "import re\n",
    "\n",
    "s4 = \"I heard that somebody said Ronaldo that he heard that A was informed that B thought that C misunderstood Ronaldo\"\n",
    "\n",
    "regex=r\"(I[a-zA-Z_0-9 ]*Ronaldo)\"\n",
    "\n",
    "match = re.findall(regex, s4)\n",
    "print(match)\n"
   ]
  },
  {
   "cell_type": "code",
   "execution_count": null,
   "metadata": {
    "colab": {},
    "colab_type": "code",
    "id": "Hs5ks0olYeH6"
   },
   "outputs": [],
   "source": [
    "#  matching text that contain two keywords between characters.\n",
    "import re\n",
    "\n",
    "s5 = \"I heard that somebody said Ronaldo, that he heard that A was informed that B thought that C misunderstood Ronaldo\"\n",
    "\n",
    "regex=r\"(I[a-zA-Z_0-9 ]*Ronaldo)\"\n",
    "\n",
    "match = re.findall(regex, s5)\n",
    "print(match)\n",
    "\n",
    "#observe the comma"
   ]
  },
  {
   "cell_type": "code",
   "execution_count": null,
   "metadata": {
    "colab": {},
    "colab_type": "code",
    "id": "2equX30HYeJT"
   },
   "outputs": [],
   "source": [
    "import re\n",
    "\n",
    "s = \"Apple Orange Watermelon\"\n",
    "\n",
    "regex=r\"(Forward School)\"\n",
    "\n",
    "match = re.findall(regex, s)\n",
    "\n",
    "print(match)"
   ]
  },
  {
   "cell_type": "code",
   "execution_count": null,
   "metadata": {
    "colab": {},
    "colab_type": "code",
    "id": "M8IPB_7sYeJu"
   },
   "outputs": [],
   "source": [
    "import re\n",
    "\n",
    "s = \"Apple Orange Watermelon Forward School\"\n",
    "\n",
    "regex=r\"(Forward School)\"\n",
    "\n",
    "match = re.findall(regex, s)\n",
    "\n",
    "print(match)"
   ]
  },
  {
   "cell_type": "code",
   "execution_count": null,
   "metadata": {
    "colab": {},
    "colab_type": "code",
    "id": "PiwNXzzHYeKB"
   },
   "outputs": [],
   "source": [
    "import re\n",
    "\n",
    "s = \"Apple Orange Watermelon Forward School\"\n",
    "\n",
    "regex=r\"(Forward School)\"\n",
    "\n",
    "match = re.match(regex, s)\n",
    "\n",
    "print(match)"
   ]
  },
  {
   "cell_type": "code",
   "execution_count": null,
   "metadata": {},
   "outputs": [],
   "source": [
    "import re\n",
    "\n",
    "s = \"Apple Orange Watermelon Forward School\"\n",
    "\n",
    "regex=r\"(Apple Orange Watermelon)\"\n",
    "\n",
    "match = re.match(regex, s)\n",
    "\n",
    "print(match)\n",
    "print(match.group(0))"
   ]
  },
  {
   "cell_type": "markdown",
   "metadata": {
    "colab_type": "text",
    "id": "8ZQg0qsiYeKL"
   },
   "source": [
    "Here are a few more common ranges that you may want to match:\n",
    "\n",
    "\n",
    "<pre>\n",
    "\n",
    "000..255: ([01][0-9][0-9]|2[0-4][0-9]|25[0-5])\n",
    "0 or 000..255: ([01]?[0-9]?[0-9]|2[0-4][0-9]|25[0-5])\n",
    "0 or 000..127: (0?[0-9]?[0-9]|1[01][0-9]|12[0-7])\n",
    "0..999: ([0-9]|[1-9][0-9]|[1-9][0-9][0-9])\n",
    "000..999: [0-9]{3}\n",
    "0 or 000..999: [0-9]{1,3}\n",
    "1..999: ([1-9]|[1-9][0-9]|[1-9][0-9][0-9])\n",
    "001..999: (00[1-9]|0[1-9][0-9]|[1-9][0-9][0-9])\n",
    "1 or 001..999: (0{0,2}[1-9]|0?[1-9][0-9]|[1-9][0-9][0-9])\n",
    "0 or 00..59: [0-5]?[0-9]\n",
    "0 or 000..366: ([012]?[0-9]?[0-9]|3[0-5][0-9]|36[0-6])\n",
    "\n",
    "</pre>\n",
    "\n",
    "** Try them out **"
   ]
  },
  {
   "cell_type": "code",
   "execution_count": null,
   "metadata": {},
   "outputs": [],
   "source": [
    "s = \"000..255..278\"\n",
    "regex = r'\\d+'\n",
    "match = re.findall(regex, s)\n",
    "print(match)"
   ]
  },
  {
   "cell_type": "code",
   "execution_count": null,
   "metadata": {
    "colab": {},
    "colab_type": "code",
    "id": "prMGEzf8YeKQ"
   },
   "outputs": [],
   "source": [
    "#example\n",
    "\n",
    "import re\n",
    "\n",
    "s = \"000..253..278\"\n",
    "\n",
    "regex=r\"([01][0-9][0-9]|2[0-4][0-9]|25[0-5])\"\n",
    "\n",
    "match = re.findall(regex, s)\n",
    "\n",
    "print(match)"
   ]
  },
  {
   "cell_type": "code",
   "execution_count": null,
   "metadata": {
    "colab": {},
    "colab_type": "code",
    "id": "e4RNBiodYepw"
   },
   "outputs": [],
   "source": [
    "# A Python program to demonstrate working of re.match().  \n",
    "import re  \n",
    "    \n",
    "# Lets use a regular expression to match a date string  \n",
    "# in the form of Month name followed by day number  \n",
    "regex = r\"([a-zA-Z]+) (\\d+)\"\n",
    "    \n",
    "#pattern <- Large Cap Alphate + Alphabet + \" \" + Numerical\n",
    "\n",
    "match = re.search(regex, \"I was born on June 24\")  \n",
    "    \n",
    "if match != None:  \n",
    "    \n",
    "    # We reach here when the expression \"([a-zA-Z]+) (\\d+)\"  \n",
    "    # matches the date string.  \n",
    "    \n",
    "    # This will print [14, 21), since it matches at index 14  \n",
    "    # and ends at 21.   \n",
    "    print(\"Match at index % s, % s\" % (match.start(), match.end())) \n",
    "    \n",
    "    # We us group() method to get all the matches and  \n",
    "    # captured groups. The groups contain the matched values.  \n",
    "    # In particular:  \n",
    "    # match.group(0) always returns the fully matched string  \n",
    "    # match.group(1) match.group(2), ... return the capture  \n",
    "    # groups in order from left to right in the input string  \n",
    "    # match.group() is equivalent to match.group(0)  \n",
    "    \n",
    "    # So this will print \"June 24\"  \n",
    "    print(\"Full match: % s\" % (match.group(0))) \n",
    "    \n",
    "    # So this will print \"June\"  \n",
    "    print(\"Month: % s\" % (match.group(1))) \n",
    "    \n",
    "    # So this will print \"24\"  \n",
    "    print(\"Day: % s\" % (match.group(2))) \n",
    "    \n",
    "else:  \n",
    "    print(\"The regex pattern does not match.\") \n"
   ]
  },
  {
   "cell_type": "markdown",
   "metadata": {
    "colab_type": "text",
    "id": "mRRzaXMIYeqU"
   },
   "source": [
    "### Resources\n",
    "\n",
    "https://regex101.com/\n",
    "https://www.debuggex.com/\n"
   ]
  },
  {
   "cell_type": "markdown",
   "metadata": {},
   "source": [
    "### Extract Email using Regex\n",
    "\n",
    "<img src='./Images/Intro2.png'>"
   ]
  },
  {
   "cell_type": "code",
   "execution_count": null,
   "metadata": {},
   "outputs": [],
   "source": [
    "import requests\n",
    "import re\n",
    "\n",
    "url='https://mmuexpert.mmu.edu.my/fci'\n",
    " \n",
    "# get the data    \n",
    "data = requests.get(url)"
   ]
  },
  {
   "cell_type": "code",
   "execution_count": null,
   "metadata": {},
   "outputs": [],
   "source": [
    "print(data.content)"
   ]
  },
  {
   "cell_type": "code",
   "execution_count": null,
   "metadata": {},
   "outputs": [],
   "source": [
    "import requests\n",
    "import re\n",
    "\n",
    "url='https://mmuexpert.mmu.edu.my/fci'\n",
    " \n",
    "# get the data    \n",
    "data = requests.get(url)\n",
    "\n",
    "\n",
    "emails = re.findall(r'([\\d\\w\\.\\-]+@[\\d\\w\\.\\-]+\\.\\w+)', data.text)\n",
    "\n",
    "print(emails)"
   ]
  },
  {
   "cell_type": "code",
   "execution_count": null,
   "metadata": {},
   "outputs": [],
   "source": [
    "print(data.text)"
   ]
  },
  {
   "cell_type": "markdown",
   "metadata": {},
   "source": [
    "### Extract Phone Number using Regex"
   ]
  },
  {
   "cell_type": "code",
   "execution_count": null,
   "metadata": {},
   "outputs": [],
   "source": [
    "import requests\n",
    "import re\n",
    "\n",
    "# get the data\n",
    "data = requests.get(url)\n",
    "\n",
    "phones = re.findall(r'[0-9]{2}\\-[0-9]{8}', data.text)\n",
    "\n",
    "print(phones)"
   ]
  },
  {
   "cell_type": "markdown",
   "metadata": {},
   "source": [
    "### Exercises\n",
    "\n",
    "**Exercise 1**\n",
    "\n",
    "Extract the Emails and Phone numbers from this page using RegEx\n",
    "\n",
    "https://www.ksn.gov.my/mengenai-pejabat/direktori-pejabat\n"
   ]
  },
  {
   "cell_type": "code",
   "execution_count": null,
   "metadata": {
    "scrolled": true
   },
   "outputs": [],
   "source": [
    "import requests\n",
    "import re\n",
    "url='https://www.ksn.gov.my/mengenai-pejabat/direktori-pejabat'\n"
   ]
  },
  {
   "cell_type": "markdown",
   "metadata": {},
   "source": [
    "### Discussion\n",
    "\n",
    "Is regex good for scraping non regular texts from Web pages?\n",
    "\n",
    "Eg. Look for all text between <li> and </li> \n",
    "\n",
    "can work? yes but how usable?\n",
    "\n",
    "Eg. Look for all names starting with Mr. and then extract the name. How?\n",
    "\n",
    "We need a better way to extract the meta data and elements about the web page. "
   ]
  },
  {
   "cell_type": "markdown",
   "metadata": {},
   "source": [
    "### r'\n",
    "\n",
    "https://docs.python.org/3/library/re.html\n",
    "\n",
    "<pre>\n",
    "Regular expressions use the backslash character ('\\') to indicate special forms or to allow special characters to be used without invoking their special meaning. This collides with Python’s usage of the same character for the same purpose in string literals; for example, to match a literal backslash, one might have to write '\\\\\\\\' as the pattern string, because the regular expression must be \\\\, and each backslash must be expressed as \\\\ inside a regular Python string literal. Also, please note that any invalid escape sequences in Python’s usage of the backslash in string literals now generate a DeprecationWarning and in the future this will become a SyntaxError. This behaviour will happen even if it is a valid escape sequence for a regular expression.\n",
    "\n",
    "The solution is to use Python’s raw string notation for regular expression patterns; backslashes are not handled in any special way in a string literal prefixed with 'r'. So r\"\\n\" is a two-character string containing '\\' and 'n', while \"\\n\" is a one-character string containing a newline. Usually patterns will be expressed in Python code using this raw string notation.\n",
    "</pre>\n",
    "\n",
    "\n",
    "**Note:**\n",
    "\n",
    "Alternative 3rd party regex implementation\n",
    "\n",
    "https://pypi.org/project/regex/\n",
    "\n",
    "Try it out own your own\n"
   ]
  },
  {
   "cell_type": "code",
   "execution_count": null,
   "metadata": {},
   "outputs": [],
   "source": [
    "# Example\n",
    "\n",
    "teststring = 'this is \\n a test'\n",
    "\n",
    "print(teststring)\n"
   ]
  },
  {
   "cell_type": "code",
   "execution_count": null,
   "metadata": {},
   "outputs": [],
   "source": [
    "# Example escape character \\ is now a raw string not an escape char\n",
    "\n",
    "teststring = r'this is \\n a test'\n",
    "\n",
    "print(teststring)\n"
   ]
  },
  {
   "cell_type": "code",
   "execution_count": null,
   "metadata": {},
   "outputs": [],
   "source": [
    "# \\b Word boundary, allow to perform \"whole words only\" search\n",
    "\n",
    "import re\n",
    "\n",
    "re.findall('\\\\btest\\\\b', 'test this is a test') # the backslash gets consumed by the python string interpreter\n"
   ]
  },
  {
   "cell_type": "code",
   "execution_count": null,
   "metadata": {},
   "outputs": [],
   "source": [
    "re.findall('\\\\btest\\\\b', 'test this is a test') # backslash is explicitly escaped and is passed through to re module\n"
   ]
  },
  {
   "cell_type": "code",
   "execution_count": null,
   "metadata": {},
   "outputs": [],
   "source": [
    "re.findall(r'\\btest\\b', 'test this is a test') # often this syntax is easier\n"
   ]
  },
  {
   "cell_type": "code",
   "execution_count": null,
   "metadata": {},
   "outputs": [],
   "source": [
    "# some example using regex to extract the URL\n",
    "\n",
    "import re\n",
    "\n",
    "x=\"\"\"<!DOCTYPE html>\n",
    "\n",
    "<html itemscope itemtype=\"http://schema.org/QAPage\">\n",
    "\n",
    "<head>\n",
    "\"\"\"\n",
    "\n",
    "matching = re.findall(r\"[a-zA-Z0-9\\-\\.]+\\.(?:com|org|net|mil|edu|COM|ORG|NET|MIL|EDU)+(?:[\\w\\-\\.,@?^=%&amp;:\\/~\\+#]*[\\w\\-\\@?^=%&amp;\\/~\\+#])?\",x)\n",
    "\n",
    "print(matching)"
   ]
  },
  {
   "cell_type": "code",
   "execution_count": null,
   "metadata": {},
   "outputs": [],
   "source": []
  }
 ],
 "metadata": {
  "anaconda-cloud": {},
  "colab": {
   "name": "P06 - Numpy.ipynb",
   "provenance": []
  },
  "kernelspec": {
   "display_name": "Python 3 (ipykernel)",
   "language": "python",
   "name": "python3"
  },
  "language_info": {
   "codemirror_mode": {
    "name": "ipython",
    "version": 3
   },
   "file_extension": ".py",
   "mimetype": "text/x-python",
   "name": "python",
   "nbconvert_exporter": "python",
   "pygments_lexer": "ipython3",
   "version": "3.8.11"
  }
 },
 "nbformat": 4,
 "nbformat_minor": 1
}
