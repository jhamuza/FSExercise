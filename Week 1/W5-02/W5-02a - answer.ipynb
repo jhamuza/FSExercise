{
 "cells": [
  {
   "cell_type": "code",
   "execution_count": 1,
   "id": "53432de7",
   "metadata": {},
   "outputs": [
    {
     "ename": "NameError",
     "evalue": "name 'html' is not defined",
     "output_type": "error",
     "traceback": [
      "\u001b[1;31m---------------------------------------------------------------------------\u001b[0m",
      "\u001b[1;31mNameError\u001b[0m                                 Traceback (most recent call last)",
      "\u001b[1;32m<ipython-input-1-7d739d43e65d>\u001b[0m in \u001b[0;36m<module>\u001b[1;34m\u001b[0m\n\u001b[0;32m      4\u001b[0m \u001b[1;32mimport\u001b[0m \u001b[0mre\u001b[0m\u001b[1;33m\u001b[0m\u001b[1;33m\u001b[0m\u001b[0m\n\u001b[0;32m      5\u001b[0m \u001b[1;32mfrom\u001b[0m \u001b[0mbs4\u001b[0m \u001b[1;32mimport\u001b[0m \u001b[0mBeautifulSoup\u001b[0m\u001b[1;33m\u001b[0m\u001b[1;33m\u001b[0m\u001b[0m\n\u001b[1;32m----> 6\u001b[1;33m \u001b[0mbs\u001b[0m \u001b[1;33m=\u001b[0m \u001b[0mBeautifulSoup\u001b[0m\u001b[1;33m(\u001b[0m\u001b[0mhtml\u001b[0m\u001b[1;33m.\u001b[0m\u001b[0mcontent\u001b[0m\u001b[1;33m,\u001b[0m\u001b[1;34m'html.parser'\u001b[0m\u001b[1;33m)\u001b[0m\u001b[1;33m\u001b[0m\u001b[1;33m\u001b[0m\u001b[0m\n\u001b[0m\u001b[0;32m      7\u001b[0m \u001b[1;33m\u001b[0m\u001b[0m\n\u001b[0;32m      8\u001b[0m \u001b[0msoup_list\u001b[0m \u001b[1;33m=\u001b[0m \u001b[0mbs\u001b[0m\u001b[1;33m.\u001b[0m\u001b[0mfindAll\u001b[0m\u001b[1;33m(\u001b[0m\u001b[1;34m\"li\"\u001b[0m\u001b[1;33m,\u001b[0m \u001b[0mattrs\u001b[0m\u001b[1;33m=\u001b[0m\u001b[1;33m{\u001b[0m\u001b[1;34m\"class\"\u001b[0m\u001b[1;33m:\u001b[0m\u001b[0mre\u001b[0m\u001b[1;33m.\u001b[0m\u001b[0mcompile\u001b[0m\u001b[1;33m(\u001b[0m\u001b[1;34mr\"sresult lvresult clearfix li[ shic]*\"\u001b[0m\u001b[1;33m)\u001b[0m\u001b[1;33m}\u001b[0m\u001b[1;33m)\u001b[0m\u001b[1;33m\u001b[0m\u001b[1;33m\u001b[0m\u001b[0m\n",
      "\u001b[1;31mNameError\u001b[0m: name 'html' is not defined"
     ]
    }
   ],
   "source": [
    "# Exercise\n",
    "# Find the Cheapest Item\n",
    "# Use regex to remove the RM Suffix\n",
    "import re\n",
    "from bs4 import BeautifulSoup\n",
    "bs = BeautifulSoup(html.content,'html.parser')\n",
    "\n",
    "soup_list = bs.findAll(\"li\", attrs={\"class\":re.compile(r\"sresult lvresult clearfix li[ shic]*\")})\n",
    "\n",
    "cheapest = []\n",
    "\n",
    "for items in (soup_list):\n",
    "    cheapest.append(float(re.sub(r'\\nRM ','', items.find(\"span\", attrs={\"class\":\"bold\"}).text)))\n",
    "    \n",
    "print(\"Cheapest Item is:\", min(cheapest))\n"
   ]
  },
  {
   "cell_type": "code",
   "execution_count": null,
   "id": "ca409488",
   "metadata": {},
   "outputs": [],
   "source": [
    "# Exercise\n",
    "import pandas as pd\n",
    "import numpy as np\n",
    "\n",
    "soup_list = bs.findAll(\"li\", attrs={\"class\":re.compile(r\"sresult lvresult clearfix li[ shic]*\")})\n",
    "product_name = []\n",
    "product_price = []\n",
    "for items in soup_list:\n",
    "    product_name.append(items.find(\"h3\", attrs={\"class\":\"lvtitle\"}).text)\n",
    "    product_price.append(float(re.sub(r'\\nRM ','', items.find(\"span\", attrs={\"class\":\"bold\"}).text)))\n",
    "\n",
    "data = {'product_name':product_name,\n",
    "       'product_price':product_price}\n",
    "\n",
    "df_xiaomi = pd.DataFrame(data)\n",
    "df_xiaomi\n",
    "\n",
    "df_xiaomi.to_csv(r'Products.csv', index=False)"
   ]
  }
 ],
 "metadata": {
  "kernelspec": {
   "display_name": "Python 3",
   "language": "python",
   "name": "python3"
  },
  "language_info": {
   "codemirror_mode": {
    "name": "ipython",
    "version": 3
   },
   "file_extension": ".py",
   "mimetype": "text/x-python",
   "name": "python",
   "nbconvert_exporter": "python",
   "pygments_lexer": "ipython3",
   "version": "3.8.8"
  }
 },
 "nbformat": 4,
 "nbformat_minor": 5
}
